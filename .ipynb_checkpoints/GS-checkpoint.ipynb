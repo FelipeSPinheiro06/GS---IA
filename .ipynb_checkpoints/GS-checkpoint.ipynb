{
 "cells": [
  {
   "cell_type": "markdown",
   "id": "986ddaa5-f1af-42ca-9fac-e151922a56e9",
   "metadata": {},
   "source": [
    "# Importando Bibliotecas"
   ]
  },
  {
   "cell_type": "code",
   "execution_count": 45,
   "id": "b62810a0-d75a-439a-86df-36de1ad7aba1",
   "metadata": {},
   "outputs": [],
   "source": [
    "import pandas as pd"
   ]
  },
  {
   "cell_type": "markdown",
   "id": "aa136356-9b70-4575-92b1-223166b64612",
   "metadata": {},
   "source": [
    "# Carregando conjunto de dados com Pandas"
   ]
  },
  {
   "cell_type": "code",
   "execution_count": 46,
   "id": "d724fa3d-4407-4fca-bcbf-1ba57704624a",
   "metadata": {},
   "outputs": [],
   "source": [
    "dados = pd.read_csv(\"C:/Datasets/heart_attack_prediction_dataset.csv\")"
   ]
  },
  {
   "cell_type": "markdown",
   "id": "cc07f594-bc47-465b-8d3c-0550b4347fad",
   "metadata": {},
   "source": [
    "# Informações sobre o Dataset"
   ]
  },
  {
   "cell_type": "code",
   "execution_count": 47,
   "id": "c0001186-5f68-47d9-bb16-ea07d2429eaf",
   "metadata": {},
   "outputs": [
    {
     "name": "stdout",
     "output_type": "stream",
     "text": [
      "Origem: https://www.kaggle.com/datasets/iamsouravbanerjee/heart-attack-prediction-dataset\n",
      "Nome: Heart Attack Risk Prediction Dataset\n",
      "Tamanho: 1,38 MB\n",
      "Quantidade de Registros: 8763\n",
      "Linhas x Colunas: (8763, 26)\n",
      "Dados Faltantes:\n",
      "Patient ID                         0\n",
      "Age                                0\n",
      "Sex                                0\n",
      "Cholesterol                        0\n",
      "Blood Pressure                     0\n",
      "Heart Rate                         0\n",
      "Diabetes                           0\n",
      "Family History                     0\n",
      "Smoking                            0\n",
      "Obesity                            0\n",
      "Alcohol Consumption                0\n",
      "Exercise Hours Per Week            0\n",
      "Diet                               0\n",
      "Previous Heart Problems            0\n",
      "Medication Use                     0\n",
      "Stress Level                       0\n",
      "Sedentary Hours Per Day            0\n",
      "Income                             0\n",
      "BMI                                0\n",
      "Triglycerides                      0\n",
      "Physical Activity Days Per Week    0\n",
      "Sleep Hours Per Day                0\n",
      "Country                            0\n",
      "Continent                          0\n",
      "Hemisphere                         0\n",
      "Heart Attack Risk                  0\n",
      "dtype: int64\n",
      "\n"
     ]
    }
   ],
   "source": [
    "origem = \"https://www.kaggle.com/datasets/iamsouravbanerjee/heart-attack-prediction-dataset\"\n",
    "nome = \"Heart Attack Risk Prediction Dataset\"\n",
    "tamanho = \"1,38 MB\"  \n",
    "quantidade_registros = len(dados)\n",
    "linhas_colunas = dados.shape\n",
    "dados_faltantes = dados.isnull().sum()\n",
    "\n",
    "print(f\"Origem: {origem}\")\n",
    "print(f\"Nome: {nome}\")\n",
    "print(f\"Tamanho: {tamanho}\")\n",
    "print(f\"Quantidade de Registros: {quantidade_registros}\")\n",
    "print(f\"Linhas x Colunas: {linhas_colunas}\")\n",
    "print(f\"Dados Faltantes:\\n{dados_faltantes}\\n\")"
   ]
  },
  {
   "cell_type": "markdown",
   "id": "b0ec0875-ff30-4da8-afc8-cb53b6ca0528",
   "metadata": {},
   "source": [
    "# Removendo colunas não desejadas"
   ]
  },
  {
   "cell_type": "code",
   "execution_count": 26,
   "id": "cc695e08-e5a8-401d-88aa-609469b265d1",
   "metadata": {},
   "outputs": [],
   "source": [
    "dados = dados.drop ([\"Country\", \"Continent\", \"Hemisphere\"], axis = 1)"
   ]
  }
 ],
 "metadata": {
  "kernelspec": {
   "display_name": "Python 3 (ipykernel)",
   "language": "python",
   "name": "python3"
  },
  "language_info": {
   "codemirror_mode": {
    "name": "ipython",
    "version": 3
   },
   "file_extension": ".py",
   "mimetype": "text/x-python",
   "name": "python",
   "nbconvert_exporter": "python",
   "pygments_lexer": "ipython3",
   "version": "3.10.11"
  }
 },
 "nbformat": 4,
 "nbformat_minor": 5
}
